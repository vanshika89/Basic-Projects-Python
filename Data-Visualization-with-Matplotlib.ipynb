{
 "cells": [
  {
   "cell_type": "markdown",
   "id": "f2e12d4e",
   "metadata": {},
   "source": [
    "# <center>Visualising Data</center>\n",
    "### Using Matplotlib for the visualisation"
   ]
  },
  {
   "cell_type": "code",
   "execution_count": 2,
   "id": "5715b78f",
   "metadata": {},
   "outputs": [],
   "source": [
    "import matplotlib.pyplot as plt"
   ]
  },
  {
   "cell_type": "code",
   "execution_count": 3,
   "id": "7447a881",
   "metadata": {},
   "outputs": [],
   "source": [
    "%matplotlib inline"
   ]
  },
  {
   "cell_type": "code",
   "execution_count": 4,
   "id": "9635cbdf",
   "metadata": {},
   "outputs": [
    {
     "data": {
      "text/plain": [
       "array([ 0.        ,  0.82142857,  1.64285714,  2.46428571,  3.28571429,\n",
       "        4.10714286,  4.92857143,  5.75      ,  6.57142857,  7.39285714,\n",
       "        8.21428571,  9.03571429,  9.85714286, 10.67857143, 11.5       ,\n",
       "       12.32142857, 13.14285714, 13.96428571, 14.78571429, 15.60714286,\n",
       "       16.42857143, 17.25      , 18.07142857, 18.89285714, 19.71428571,\n",
       "       20.53571429, 21.35714286, 22.17857143, 23.        ])"
      ]
     },
     "execution_count": 4,
     "metadata": {},
     "output_type": "execute_result"
    }
   ],
   "source": [
    "import numpy as np\n",
    "x = np.linspace(0, 23, 29)\n",
    "y = x // 2\n",
    "x"
   ]
  },
  {
   "cell_type": "code",
   "execution_count": 5,
   "id": "097ab091",
   "metadata": {},
   "outputs": [
    {
     "data": {
      "text/plain": [
       "array([ 0.,  0.,  0.,  1.,  1.,  2.,  2.,  2.,  3.,  3.,  4.,  4.,  4.,\n",
       "        5.,  5.,  6.,  6.,  6.,  7.,  7.,  8.,  8.,  9.,  9.,  9., 10.,\n",
       "       10., 11., 11.])"
      ]
     },
     "execution_count": 5,
     "metadata": {},
     "output_type": "execute_result"
    }
   ],
   "source": [
    "y"
   ]
  },
  {
   "cell_type": "code",
   "execution_count": 6,
   "id": "381f0665",
   "metadata": {},
   "outputs": [
    {
     "data": {
      "image/png": "[encoded data removed]",
      "text/plain": [
       "<Figure size 432x288 with 1 Axes>"
      ]
     },
     "metadata": {
      "needs_background": "light"
     },
     "output_type": "display_data"
    }
   ],
   "source": [
    "plt.plot(x, y, 'r') # 'r' is the color red\n",
    "plt.xlabel('X Axis Title Here')\n",
    "plt.ylabel('Y Axis Title Here')\n",
    "plt.title('String Title Here')\n",
    "plt.show()"
   ]
  },
  {
   "cell_type": "markdown",
   "id": "4ddbe5d9",
   "metadata": {},
   "source": [
    "# <center>Thank you</center>"
   ]
  }
 ],
 "metadata": {
  "kernelspec": {
   "display_name": "Python 3",
   "language": "python",
   "name": "python3"
  },
  "language_info": {
   "codemirror_mode": {
    "name": "ipython",
    "version": 3
   },
   "file_extension": ".py",
   "mimetype": "text/x-python",
   "name": "python",
   "nbconvert_exporter": "python",
   "pygments_lexer": "ipython3",
   "version": "3.8.8"
  }
 },
 "nbformat": 4,
 "nbformat_minor": 5
}
